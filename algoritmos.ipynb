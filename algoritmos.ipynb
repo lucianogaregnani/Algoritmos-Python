{
  "nbformat": 4,
  "nbformat_minor": 0,
  "metadata": {
    "colab": {
      "name": "algoritmos.ipynb",
      "provenance": [],
      "collapsed_sections": []
    },
    "kernelspec": {
      "name": "python3",
      "display_name": "Python 3"
    },
    "language_info": {
      "name": "python"
    }
  },
  "cells": [
    {
      "cell_type": "code",
      "execution_count": null,
      "metadata": {
        "id": "fGmaWJjPRUX8",
        "cellView": "code"
      },
      "outputs": [],
      "source": [
        "def mergeSort(array):\n",
        "  # el if comprueba que se trata de un caso recursivo. Si es el caso base, no se hace nada\n",
        "  if len(array) > 1:\n",
        "    # se calcula el punto de separacion de los dos sub arreglos y luego se realizan dos llamadas recursivas para ordenarlos\n",
        "    corte = len(array) // 2\n",
        "    mergeSort(array[:corte])\n",
        "    mergeSort(array[corte:])\n",
        "    # en este punto tenemos ordenadas las dos mitades del arreglo. Ahora hay que \"mezclar\" estas dos mitades poniéndolas en orden\n",
        "    merge(array)\n",
        "\n",
        "def merge(array):\n",
        "    # se crean dos copias de las dos mitades del arreglo\n",
        "    corte = len(array) // 2\n",
        "    parteIzq = np.array(array[:corte])\n",
        "    parteDer = np.array(array[corte:])\n",
        "    # i para recorrer parteIzq, j para recorrer parteDer, k para recorrer array\n",
        "    i, j, k = 0, 0, 0\n",
        "    # este bucle se repite hasta que todos los elementos de uno de los dos sub arreglos hayan sido ordenados en el arreglo completo \n",
        "    while i < len(parteIzq) and j < len(parteDer):\n",
        "      # se compara el primer elemento del primer sub arreglo con el primero del segundo\n",
        "      if parteIzq[i] < parteDer[j]:\n",
        "        # y el que sea menor se pone en la posición k del arreglo original\n",
        "        array[k] = parteIzq[i]\n",
        "        # luego se incrementa el indice del arreglo, descartando el elemento ya en array\n",
        "        i += 1\n",
        "      else:\n",
        "        array[k] = parteDer[j]\n",
        "        j += 1\n",
        "      k += 1\n",
        "\n",
        "# se integra al arreglo original el subarreglo que quedó del bucle anterior\n",
        "    if i < len(parteIzq): \n",
        "      array[k:] = parteIzq[i:]\n",
        "    \n",
        "    if j < len(parteDer):\n",
        "      array[k:] = parteDer[j:]"
      ]
    },
    {
      "cell_type": "code",
      "source": [
        "def ordPorInsercion(vector):\n",
        "    #Recorremos la lista con el bucle for.\n",
        "    for i in range(1, len(vector)):\n",
        "        #Guardamos el elemento que se encuentra en el indice i.\n",
        "        actual = vector[i]  \n",
        "        #Guardamos el indice.\n",
        "        indice = i  \n",
        "        #Entramos al bucle while, donde va a dejar de recorrer si ya ordeno todos los elementos de la lista.\n",
        "        while indice > 0 and vector[indice - 1] > actual: \n",
        "            #Si vector[indice - 1] es mayor al actual, lo movemos al indice actual.\n",
        "            vector[indice] = vector[indice - 1] \n",
        "            #El indice pasa a valer indice - 1, para seguir recorriendo los elementos de la izquierda.\n",
        "            indice = indice - 1 \n",
        "        #Cuando termina de recorrer, ordena el último elemento que sería el que guardamos al principio.\n",
        "        vector[indice] = actual"
      ],
      "metadata": {
        "id": "17xmw1Gn1ybI"
      },
      "execution_count": null,
      "outputs": []
    },
    {
      "cell_type": "code",
      "source": [
        "def busquedaLinealMatriz(matriz, datoBuscado):\n",
        "# se recorre la matriz elemento por elemento y fila por fila hasta encontrar el índice\n",
        "  for i in range(len(matriz)):\n",
        "    for j in range(len(matriz[0])):\n",
        "      if matriz[i][j] == datoBuscado:\n",
        "        return i, j\n",
        "# en caso de que el elemento no esté en la matriz\n",
        "  return -1,-1"
      ],
      "metadata": {
        "id": "0wWc2pyf3WdE"
      },
      "execution_count": null,
      "outputs": []
    },
    {
      "cell_type": "code",
      "source": [
        "def binarySearch(array, bajo, alto, datoABuscar):\n",
        "  #Primero calculamos el centro del vector.\n",
        "  centro = (bajo + alto) // 2\n",
        "  #Luego vemos el caso base.\n",
        "  if array[centro] == datoABuscar:\n",
        "    return centro\n",
        "  #Si el elemento del centro es mayor al dato que buscamos, entonces \"eliminamos\" la parte derecha de la lista.\n",
        "  #Diciendo que el alto pasa a ser el centro - 1, llamando nuevamente a la función.\n",
        "  elif array[centro] > datoABuscar:\n",
        "    return binarySearch(array, bajo, centro - 1, datoABuscar)\n",
        "  #Lo mismo que el anterior, solo que \"eliminamos\" la parte izquierda.\n",
        "  else:\n",
        "    return binarySearch(array, centro + 1, alto, datoABuscar)\n"
      ],
      "metadata": {
        "id": "UGElHv3R4NC3"
      },
      "execution_count": null,
      "outputs": []
    },
    {
      "cell_type": "code",
      "source": [
        "def binarySearchMatriz(matriz, filaInicio ,filaFin, datoABuscar):\n",
        "  #Primero calculamos el centro de la matriz.\n",
        "  centro = (filaInicio + filaFin) // 2\n",
        "  #Vemos el caso base.\n",
        "  if matriz[centro, 0] <= datoABuscar <= matriz[centro, len(matriz[0]) - 1]:\n",
        "    return centro, binarySearch(matriz[centro], 0, len(matriz[0]) - 1, datoABuscar)\n",
        "  #Si el elemento del centro es mayor al dato que buscamos, entonces \"eliminamos\" la parte de abajo de la matriz.\n",
        "  #Diciendo que la filaFin pasa a ser el centro - 1, llamando nuevamente a la función.\n",
        "  elif matriz[centro, 0] > datoABuscar:\n",
        "    return binarySearchMatriz(matriz, filaInicio ,centro - 1, datoABuscar)\n",
        "  else:\n",
        "     #Lo mismo que el anterior, solo que \"eliminamos\" la parte de arriba.\n",
        "    return binarySearchMatriz(matriz, centro + 1 ,filaFin, datoABuscar)"
      ],
      "metadata": {
        "id": "tdWmIJ-h7rEA"
      },
      "execution_count": null,
      "outputs": []
    },
    {
      "cell_type": "code",
      "source": [
        "import numpy as np\n",
        "\n",
        "#Busqueda binaria en vector\n",
        "def busquedaBinaria(vectorEntrada, datoBuscado):\n",
        "  return binarySearch(vectorEntrada, 0, len(vectorEntrada) - 1, datoBuscado)\n",
        "\n",
        "#Busqueda binaria en matriz de NxM\n",
        "def busquedaBinariaMatriz(matrizEntrada, datoBuscado):\n",
        "  return binarySearchMatriz(matrizEntrada, 0, len(matrizEntrada) - 1,datoBuscado)\n",
        "\n",
        "#Verificacion de ordenamiento en vector\n",
        "def ordenado(l):\n",
        "  return all(l[i] <= l[i+1] for i in range(len(l) - 1))\n",
        "\n",
        "#Ordenamiento iterativo (Seleccion, Insercion o Burbuja)\n",
        "def ordenarIter(arr):\n",
        "  ordPorInsercion(arr)\n",
        "\n",
        "#Ordenamiento recursivo (Mezcla o Rapido)\n",
        "def ordenarRecur(arr):\n",
        "  mergeSort(arr)\n",
        "\n",
        "def test1TP():\n",
        "  arr1 = np.array([7,10,12])\n",
        "  print(\"1: \" + str(busquedaBinaria(arr1,10) == 1))\n",
        "\n",
        "  arr2 = np.array([7,10,12,33,44,66,77,101,108,109,110,111,112])\n",
        "  print(\"2: \" + str(busquedaBinaria(arr2,7) == 0))\n",
        "\n",
        "  arr3 = np.array([7,12,10])\n",
        "  ordenarIter(arr3)\n",
        "  print(\"3: \" + str(ordenado(arr3)))\n",
        "\n",
        "  arr4 = np.array([7,10,12,33,44,66,77,101,108,109,110,111,112,7,12,10])\n",
        "  ordenarIter(arr4)\n",
        "  print(\"4: \" + str(ordenado(arr4))) \n",
        "\n",
        "def test2TP():\n",
        "  m1 = np.array([[1,3,5],[7,10,12],[15,20,150]])\n",
        "  print(\"5: \" + str(busquedaBinariaMatriz(m1,10) == (1,1)))\n",
        "\n",
        "  m2 = np.array([[0,1,2,3,4,5,6,7,8,9],\n",
        "  [10,11,12,13,14,15,16,17,18,19],\n",
        "  [20,21,22,23,24,25,26,27,28,29],\n",
        "  [30,31,32,33,34,35,36,37,38,39],\n",
        "  [40,41,42,43,44,45,46,47,48,49],\n",
        "  [50,51,52,53,54,55,56,57,58,59]])\n",
        "  print(\"6: \" + str(busquedaBinariaMatriz(m2,34) == (3,4))) \n",
        "\n",
        "  arr3 = np.array([7,12,10])\n",
        "  ordenarRecur(arr3)\n",
        "  print(\"7: \" + str(ordenado(arr3))) \n",
        "\n",
        "  arr4 = np.array([7,10,12,33,44,66,77,101,108,109,110,111,112,7,12,10])\n",
        "  ordenarRecur(arr4)\n",
        "  print(\"8: \" + str(ordenado(arr4)))  \n",
        "\n",
        "test1TP()\n",
        "test2TP()\n"
      ],
      "metadata": {
        "id": "fM7o6GpgiLYi",
        "colab": {
          "base_uri": "https://localhost:8080/"
        },
        "outputId": "c75a3c2d-64e9-4fb3-8290-91ca38af5f5e"
      },
      "execution_count": null,
      "outputs": [
        {
          "output_type": "stream",
          "name": "stdout",
          "text": [
            "1: True\n",
            "2: True\n",
            "3: True\n",
            "4: True\n",
            "5: True\n",
            "6: True\n",
            "7: True\n",
            "8: True\n"
          ]
        }
      ]
    }
  ]
}